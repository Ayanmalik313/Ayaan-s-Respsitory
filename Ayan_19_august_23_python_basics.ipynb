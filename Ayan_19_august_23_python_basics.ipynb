{
  "cells": [
    {
      "cell_type": "markdown",
      "metadata": {
        "id": "bESFMkwRlo_5"
      },
      "source": [
        "### 1. Declare two variables, `x` and `y`, and assign them integer values. Swap the values of these variables without using any temporary variable."
      ]
    },
    {
      "cell_type": "code",
      "execution_count": null,
      "metadata": {
        "id": "3GCRryWpgBNw"
      },
      "outputs": [],
      "source": [
        "\n",
        "\n",
        "#step 1 : Declare and Store value in them.\n",
        "\n",
        "x = 4\n",
        "y = 10\n",
        "\n",
        "#Step 2 : Write the Function for Swapping the Variables.\n",
        "\n",
        "def swap_variables(x,y):\n",
        "   print(f\" before Swap x:{x} and Y:{y}\" )\n",
        "   x, y = y, x\n",
        "   print(f\"After Swap x:{x} and y:{y}\")\n",
        "\n",
        "   swap_variables(x,y)"
      ]
    },
    {
      "cell_type": "markdown",
      "metadata": {
        "id": "ArELa3DYn9WX"
      },
      "source": [
        "| x = 4 : This line is for declaring and intializing variable x.\n",
        "\n",
        "\n",
        "| y = 10 : This line is for Declaring and intializing variable y.\n",
        "\n",
        "\n",
        "| def swap_variables(x,y): : This Line is Starts the Definetion of a function named swap_variables and takes two parameters Namely x,y.\n",
        "\n",
        "|print(f\" before Swap x:{x} and Y:{y}\" ) : Inside the function, This Line Shows the value of x and y before Swapping. The f before the String indicate f-string which allows to embed the value of variables directly to the string.\n",
        "\n",
        "| x, y = y, x : In this line the Swapping of variable value occurs. This uses the tuple unpacking technique to Swap simultaneously the value of x and y. After Swapping the real value of x become y and value of y become x.\n",
        "\n",
        "\n",
        "| print(f\"After swap x: {x} and y: {y}\"): This line prints the values of x and y after the swapping operation has taken place.\n",
        "\n",
        "| swap_variables(x, y): This line calls the swap_variables function that was defined earlier. The values of x and y that were initially set to 5 and 10 are passed as arguments to the function.\n",
        "\n"
      ]
    },
    {
      "cell_type": "markdown",
      "metadata": {
        "id": "gTDOl2Hp7ChO"
      },
      "source": [
        "### 2.Create a program that calculates the area of a rectangle. Take the length and width as inputs from the user and store them in variables. Calculate and display the area.\n"
      ]
    },
    {
      "cell_type": "code",
      "execution_count": null,
      "metadata": {
        "id": "2-o3S1h661Ya"
      },
      "outputs": [],
      "source": [
        "#step 1 : Take the value of length and width of rectangele by input\n",
        "\n",
        "length =  float(input(\"Enter the lenght of rectangle \")) # This Line converts the user given integer value of length to Float\n",
        "width  =  float(input(\"Enter the width of rectangle \"))  # This Line converts the user given integer value of width to Float\n",
        "\n",
        "# Step 2 : Calculate the value of length and width By the Formula : Area = length * Width\n",
        "\n",
        "area = length * width # This Line calculates the Area of Rectangle By formula\n",
        "\n",
        "#Step 3 : Display the Calculated Area to User\n",
        "\n",
        "print(f\"The area of Rectangle is {area}\")#This Line Displays the Area of Rectangle\n"
      ]
    },
    {
      "cell_type": "markdown",
      "metadata": {
        "id": "wotMNVy1-qkS"
      },
      "source": [
        "   | length =  float(input(\"Enter the lenght of rectangle \")): This Line is responsible for taking input of length by user and converting it into a float.\n",
        "\n",
        "   | width  =  float(input(\"Enter the width of rectangle \")) : Same goes with this line it also Converts the value of width in float.\n",
        "\n",
        "   | area = length * width : This Line calculate the Area from given Value of Length and Width by the Formula of area = length * Width.\n",
        "\n",
        "   | print(f\"The area of Rectangle is {area}\") : this line Display the Area of Rectangle which is calculated.\n",
        "\n",
        "\n",
        "\n"
      ]
    },
    {
      "cell_type": "markdown",
      "metadata": {
        "id": "7Vig3IIcArOM"
      },
      "source": [
        "#3. Write a Python program that converts temperatures from Celsius to Fahrenheit. Take the temperature in Celsius as input, store it in a variable, convert it to Fahrenheit, and display the result.\n",
        "\n"
      ]
    },
    {
      "cell_type": "code",
      "execution_count": null,
      "metadata": {
        "colab": {
          "base_uri": "https://localhost:8080/"
        },
        "id": "O1h17Mz0BP58",
        "outputId": "e63a20e1-22a5-440d-f8d2-8c4cadbfedcc"
      },
      "outputs": [
        {
          "name": "stdout",
          "output_type": "stream",
          "text": [
            "Enter temperature in Celsius: 56\n",
            "56.0 celsius is equal to 132.8 fahrenheit\n"
          ]
        }
      ],
      "source": [
        "# Step 1 : Take Value of Celcius from the User by input\n",
        "celsius = float(input(\"Enter temperature in Celsius: \"))\n",
        "\n",
        "#step 2 : Now convert the celsius value to fahrenheit by formula : celsius * 9/5 +32\n",
        "fahrenheit = (celsius *9/5)+32 # converting celsius value into fahrenheit\n",
        "\n",
        "# Step 3 : Display the celsius and fahrenheit value\n",
        "print(f\"{celsius} celsius is equal to {fahrenheit} fahrenheit\")"
      ]
    },
    {
      "cell_type": "markdown",
      "metadata": {
        "id": "z4v2OeFfHFZ_"
      },
      "source": [
        "   | First, We Take Input by input method from the User and Convert the integer Value into a Float.\n",
        "\n",
        "   | Then Convert the Celsius value into Fahrenheit by the Formula: Celsius * 9/5 + 32. And Store the result and fahrenheit Variable\n",
        "\n",
        "   | At Last, We Display Both Celsius and Fahrenheit Values with Method of f-string"
      ]
    },
    {
      "cell_type": "markdown",
      "metadata": {
        "id": "URJBmkAoIypP"
      },
      "source": [
        "# String Based Questions"
      ]
    },
    {
      "cell_type": "markdown",
      "metadata": {
        "id": "wUhIWkVgI5qE"
      },
      "source": [
        " ### 1. Write a Python program that takes a string as input and prints the length of the string"
      ]
    },
    {
      "cell_type": "code",
      "execution_count": null,
      "metadata": {
        "colab": {
          "base_uri": "https://localhost:8080/"
        },
        "id": "neCypTrkJWj5",
        "outputId": "ae03d073-7586-49a7-faf0-622ab8a39ed2"
      },
      "outputs": [
        {
          "name": "stdout",
          "output_type": "stream",
          "text": [
            "Enter a String now is the coloumbia\n",
            " now is the coloumbia the lenght of this string is 21\n"
          ]
        }
      ],
      "source": [
        "# Step 1 : Get Input from User by Input Method\n",
        "input_string = input(\"Enter a String\")\n",
        "\n",
        "# Step 2 : Count the lenght of String using len() Fucntion\n",
        "string_length = len(input_string)\n",
        "\n",
        "# Step 3 : Display the string with lenght of it\n",
        "print(f\"{input_string} the lenght of this string is :{string_length}\")"
      ]
    },
    {
      "cell_type": "markdown",
      "metadata": {
        "id": "vpChOz4dK7OV"
      },
      "source": [
        "  | Firstly, We taken the string from the User by the Method of input and stored in the variable named input_string\n",
        "\n",
        "  | After that, Calculated the lenght of the String by in-built function : len(string) and stored it into a variable called string_length\n",
        "\n",
        "  | Finally, Displayed the String and its length using print and f-string methods"
      ]
    },
    {
      "cell_type": "markdown",
      "metadata": {
        "id": "esKHzOttK6gR"
      },
      "source": [
        "### 2. Create a program that takes a sentence from the user and counts the number of vowels (a, e, i, o, u) in the string."
      ]
    },
    {
      "cell_type": "code",
      "execution_count": 39,
      "metadata": {
        "colab": {
          "base_uri": "https://localhost:8080/"
        },
        "id": "oPfKq5aoNpjJ",
        "outputId": "b1847913-10b9-4c9d-9bf5-6984c5f72900"
      },
      "outputs": [
        {
          "name": "stdout",
          "output_type": "stream",
          "text": [
            " Enter a Sentencehello oo\n",
            "Vowels Count : 4\n"
          ]
        }
      ],
      "source": [
        "# Step 1 : Take the Input From the User\n",
        "sentence = input( \" Enter a Sentence\")\n",
        "\n",
        "# Step 2 : Intiallize a variable to Zero for vowel Count\n",
        "vowel = 0\n",
        "\n",
        "# Step 3 : iterate  from all characters by using loop\n",
        "for char in sentence:\n",
        "\n",
        "    # Step 4 : Now Convert All the Characters into lower case\n",
        "    char_lower = char.lower()\n",
        "\n",
        "    # Step 5 :  Check the Vowels (a,e,i,o,u)in Sentence by if statement\n",
        "    if char_lower in \"aeiou\":\n",
        "       # Step 6 : If Sentence contains vowels incriment it by 1 with every Vowel count\n",
        "        vowel += 1\n",
        "\n",
        "# Step 7 : display the Vowel Count with Sentence\n",
        "print(\"Vowels Count :\", vowel)\n",
        "\n"
      ]
    },
    {
      "cell_type": "markdown",
      "metadata": {
        "id": "sp9ExUeTaift"
      },
      "source": [
        "  | In first Step, Taken Input from user by prompt.\n",
        "\n",
        "  | Created a vowel named Variable with 0 value stored for counting vowels.\n",
        "\n",
        "  | Used a 'For' Loop to iterate from every character in the sentence.\n",
        "\n",
        "  | To ensuring that the every character will counted, Used in-built lower method to convert all the characters into lower case.\n",
        "\n",
        "  | for Checking the Sentence contains vowels, Used 'in' operator and \"aeiou\" string.\n",
        "\n",
        "  | Also Used 'if' Statement to increment the value of vowel with increment operator.\n",
        "\n",
        "  | In Last, Displayed the  Number of vowels in entred sentence by print Method"
      ]
    },
    {
      "cell_type": "markdown",
      "metadata": {},
      "source": [
        "Q 3 Make a Program that can print the word opposite by using slice method"
      ]
    },
    {
      "cell_type": "code",
      "execution_count": null,
      "metadata": {},
      "outputs": [],
      "source": [
        "# Step 1 :Take input from the User by Prompt \n",
        "input_word = input(\"Enter a Word\")\n",
        "\n",
        "# Step 2 : Now Use the Slicing Method to Slive and Reverse the Word one by one character and Jump into Opposite direction.\n",
        "Reverse_Word = input_word[::-1]\n",
        "\n",
        "#Step 3 : Print the Output of the Program by Print Method\n",
        "print(f\" Your Given Word is {input_word} and its Reverse is {Reverse_Word}\")"
      ]
    },
    {
      "cell_type": "markdown",
      "metadata": {},
      "source": [
        "| First taken a Input from User and Stored it in input_word Name Variable.\n",
        "\n",
        "| Then Sliced every Character one by one and Reversed it by Using Slicing Method.\n",
        "\n",
        "| At the Last Simpy We Displayed the Output with The Input of User using print and f-String Method.\n"
      ]
    },
    {
      "cell_type": "markdown",
      "metadata": {},
      "source": [
        "Q.4 Write Program Which Takes a Input as a String and check if it is a Pallidrome or Not(Reads the Same forwards and backwards)"
      ]
    },
    {
      "cell_type": "code",
      "execution_count": 2,
      "metadata": {},
      "outputs": [
        {
          "name": "stdout",
          "output_type": "stream",
          "text": [
            " Your Entered String is a Pallidrome\n"
          ]
        }
      ],
      "source": [
        "# Step 1 : Get Input as a String from User\n",
        "input_string = input(\" Enter a String \")\n",
        "\n",
        "# Step 2 : Remove all Spaceses and Convert into Lower Case\n",
        "lower_string = input_string.replace(\" \",\"\").lower()\n",
        "\n",
        "# Step 3 : Reverse the Given String By Slicing Method\n",
        "reversed_string = lower_string[::-1]\n",
        "\n",
        "# Step 4 : Check the String it is a Pallidrome or Not.\n",
        "if input_string == reversed_string:\n",
        "    print(\" Your Entered String is a Pallidrome\")\n",
        "else:\n",
        "    print(\" Your Entered String is Not a Pallidrome \")"
      ]
    },
    {
      "cell_type": "markdown",
      "metadata": {},
      "source": [
        "In Starting, Taken a input as a String from User By input Method and Stored in input_string variable\n",
        "\n",
        "After it, Removed Spaces with replace() Function and lowered all the Alphabets Using lower() Function. To Ensure that in comparison the space doesn't make a problem and being a case insencitive comparison.\n",
        "\n",
        "Then, Reversed the String using Slice Method and Stored the Reversed String in reversed_string Named variable.\n",
        "\n",
        "Finally, Used 'if' 'else' Statement to Check the Entered String is a Pallidrome or not.\n",
        "\n"
      ]
    },
    {
      "cell_type": "markdown",
      "metadata": {},
      "source": [
        "Q.5 Create a program that takes a string as input and removes all the spaces from it. Print the modified string without spaces."
      ]
    },
    {
      "cell_type": "code",
      "execution_count": 9,
      "metadata": {},
      "outputs": [
        {
          "name": "stdout",
          "output_type": "stream",
          "text": [
            "The Modified String Without Space : burhan\n"
          ]
        }
      ],
      "source": [
        "# Step 1 : Take a Input From the User.\n",
        "input_string = input(\" Enter a String \")\n",
        "\n",
        "# Step 2 : intiallize a Empty String to Store Modified String.\n",
        "empty_string = \"\"\n",
        "\n",
        "# Step 3 : Iterate from Every Character using for in Loop.\n",
        "for char in input_string:\n",
        "    # Step 4 : Check wheter it is a space or Not.\n",
        "    if char != \" \":\n",
        "        # Step 5 : Add character into Empty String.\n",
        "        empty_string += char\n",
        "\n",
        "# Step 6 : Print the String Without Spaces.\n",
        "print(\"The Modified String Without Space :\",empty_string)        \n"
      ]
    },
    {
      "cell_type": "markdown",
      "metadata": {},
      "source": [
        "| We Started by Taking Input from user By input Method.\n",
        "\n",
        "| Intiallized a Empty String Variable to Store Modified String.\n",
        "\n",
        "| Iterated from Every Character of Input String By using 'For' 'in' Loop.\n",
        "    - Then Checked if character is not a space using 'if' Statement.\n",
        "    - Appended the charcters to empty string using incriment operator.\n",
        "\n",
        "| At last, Printed the Modified string Without Spaces"
      ]
    }
  ],
  "metadata": {
    "colab": {
      "provenance": []
    },
    "kernelspec": {
      "display_name": "Python 3",
      "name": "python3"
    },
    "language_info": {
      "codemirror_mode": {
        "name": "ipython",
        "version": 3
      },
      "file_extension": ".py",
      "mimetype": "text/x-python",
      "name": "python",
      "nbconvert_exporter": "python",
      "pygments_lexer": "ipython3",
      "version": "3.9.13"
    }
  },
  "nbformat": 4,
  "nbformat_minor": 0
}
